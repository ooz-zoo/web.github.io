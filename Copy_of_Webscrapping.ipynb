{
  "nbformat": 4,
  "nbformat_minor": 0,
  "metadata": {
    "colab": {
      "provenance": [],
      "toc_visible": true,
      "authorship_tag": "ABX9TyPR8nanRsxr26XSt8AtM5BH",
      "include_colab_link": true
    },
    "kernelspec": {
      "name": "python3",
      "display_name": "Python 3"
    },
    "language_info": {
      "name": "python"
    }
  },
  "cells": [
    {
      "cell_type": "markdown",
      "metadata": {
        "id": "view-in-github",
        "colab_type": "text"
      },
      "source": [
        "<a href=\"https://colab.research.google.com/github/ooz-zoo/web.github.io/blob/main/Copy_of_Webscrapping.ipynb\" target=\"_parent\"><img src=\"https://colab.research.google.com/assets/colab-badge.svg\" alt=\"Open In Colab\"/></a>"
      ]
    },
    {
      "cell_type": "markdown",
      "source": [
        "installing google play scrapper library"
      ],
      "metadata": {
        "id": "jpUuyWaSNjOJ"
      }
    },
    {
      "cell_type": "code",
      "source": [
        "!pip install google-play-scraper"
      ],
      "metadata": {
        "colab": {
          "base_uri": "https://localhost:8080/"
        },
        "id": "9Y9vlxakNtKG",
        "outputId": "2d679b6b-7d98-4d83-9d4b-98689538e622"
      },
      "execution_count": null,
      "outputs": [
        {
          "output_type": "stream",
          "name": "stdout",
          "text": [
            "Looking in indexes: https://pypi.org/simple, https://us-python.pkg.dev/colab-wheels/public/simple/\n",
            "Collecting google-play-scraper\n",
            "  Downloading google_play_scraper-1.2.3-py3-none-any.whl (28 kB)\n",
            "Installing collected packages: google-play-scraper\n",
            "Successfully installed google-play-scraper-1.2.3\n"
          ]
        }
      ]
    },
    {
      "cell_type": "markdown",
      "source": [
        "installing all the libraries needed"
      ],
      "metadata": {
        "id": "aK0T5kRUOXTd"
      }
    },
    {
      "cell_type": "code",
      "source": [
        "from google_play_scraper import app\n",
        "import pandas as pd\n",
        "import numpy as np"
      ],
      "metadata": {
        "id": "1w7CzUPXOcpj"
      },
      "execution_count": null,
      "outputs": []
    },
    {
      "cell_type": "code",
      "source": [
        "result4 = app(\n",
        "    'com.securitybank',\n",
        "    lang='en',\n",
        "    country='us',\n",
        ")\n"
      ],
      "metadata": {
        "id": "-abYkDBsUmnb"
      },
      "execution_count": null,
      "outputs": []
    },
    {
      "cell_type": "code",
      "source": [
        "print(result4)"
      ],
      "metadata": {
        "colab": {
          "base_uri": "https://localhost:8080/"
        },
        "id": "FRgCNNoQU-es",
        "outputId": "ef2ed042-61c3-4905-d8be-d094b4668f47"
      },
      "execution_count": null,
      "outputs": [
        {
          "output_type": "stream",
          "name": "stdout",
          "text": [
            "{'title': 'Twitter Lite', 'description': 'Get breaking news, politics, trending music, world events, sports scores, and the latest global news stories as they unfold. Easily market your business, find out the weather, interact with global brands and, quickly provide or receive customer service - all with less data.\\r\\n\\r\\nSame Twitter features, new data saver capacity. \\r\\n\\r\\nEnjoy improved notifications for world news events, sports scores, weather updates, and the latest in local news. Get real time updates for the news stories you care about. Save Bookmarks, Tweet in 280 characters, share trending videos, images, and much more.\\r\\n\\r\\nTwitter Lite is fast to install, space- and data-friendly:\\r\\n1. Data saver — less than 3MB to install, so it doesn’t take up much space on your phone.\\r\\n2. See sports scores, entertainment, global news, and politics quickly on 2G and 3G networks.\\r\\n3. Turn on data saver mode to download only the images or videos you want to see.\\r\\n\\r\\nGet the latest news as it unfolds. From breaking news and sports to entertainment, trending music, live news, politics, weather updates and world news events, it all happens on Twitter. Be a part of the conversation and see what’s happening.\\r\\n\\r\\nHere’s how:\\r\\n\\r\\nHome Timeline\\r\\n• See what entertainment and sports personalities, friends or other people are talking about.\\r\\n• Follow local news, world events, politics, sports scores, and more.\\r\\n• See Tweets, images, videos, and live news updates for today’s biggest news events.\\r\\n• Retweet, share, like, bookmark or reply to Tweets in your timeline.\\r\\n• Chat with the world. Write a Tweet to let your social network know what’s happening.\\r\\n\\r\\nExplore \\r\\n• See breaking news, trending topics, and the latest hashtags from across the world.\\r\\n• Be in the know about entertainment, politics, local news, and world events.\\r\\n• Explore news stories and chat or tweet about live news with your social network.\\r\\n• Search for entertainment personalities, trending topics, and breaking news to follow.\\r\\n• Experience dynamic media — like trending music, images, videos, live news broadcasts, and GIFs.\\r\\n\\r\\nDirect Messages \\r\\n• Chat privately with friends and followers about live news events or what’s happening near you.\\r\\n• Share Tweets, images and videos to specific people.\\r\\n• Create a private group conversation so you can chat about what’s happening.\\r\\n\\r\\nNotifications \\r\\n• See the best Tweets you may have missed.\\r\\n• Discover which of your Tweets were liked or Retweeted.\\r\\n• Respond to replies or be alerted to Tweets you were mentioned in.\\r\\n\\r\\nDon’t want to be public? You can make your account private so only people you want can follow you and see your Tweets.\\r\\n\\r\\nCan’t download? Access Twitter Lite on mobile.twitter.com \\r\\nLearn how to use Twitter Lite in the Help Center\\r\\n\\r\\nTwitter Lite is currently compatible with devices supporting Android versions 5.0 and above.', 'descriptionHTML': 'Get breaking news, politics, trending music, world events, sports scores, and the latest global news stories as they unfold. Easily market your business, find out the weather, interact with global brands and, quickly provide or receive customer service - all with less data.<br><br>Same Twitter features, new data saver capacity. <br><br>Enjoy improved notifications for world news events, sports scores, weather updates, and the latest in local news. Get real time updates for the news stories you care about. Save Bookmarks, Tweet in 280 characters, share trending videos, images, and much more.<br><br>Twitter Lite is fast to install, space- and data-friendly:<br>1. Data saver — less than 3MB to install, so it doesn’t take up much space on your phone.<br>2. See sports scores, entertainment, global news, and politics quickly on 2G and 3G networks.<br>3. Turn on data saver mode to download only the images or videos you want to see.<br><br>Get the latest news as it unfolds. From breaking news and sports to entertainment, trending music, live news, politics, weather updates and world news events, it all happens on Twitter. Be a part of the conversation and see what’s happening.<br><br>Here’s how:<br><br>Home Timeline<br>• See what entertainment and sports personalities, friends or other people are talking about.<br>• Follow local news, world events, politics, sports scores, and more.<br>• See Tweets, images, videos, and live news updates for today’s biggest news events.<br>• Retweet, share, like, bookmark or reply to Tweets in your timeline.<br>• Chat with the world. Write a Tweet to let your social network know what’s happening.<br><br>Explore <br>• See breaking news, trending topics, and the latest hashtags from across the world.<br>• Be in the know about entertainment, politics, local news, and world events.<br>• Explore news stories and chat or tweet about live news with your social network.<br>• Search for entertainment personalities, trending topics, and breaking news to follow.<br>• Experience dynamic media — like trending music, images, videos, live news broadcasts, and GIFs.<br><br>Direct Messages <br>• Chat privately with friends and followers about live news events or what’s happening near you.<br>• Share Tweets, images and videos to specific people.<br>• Create a private group conversation so you can chat about what’s happening.<br><br>Notifications <br>• See the best Tweets you may have missed.<br>• Discover which of your Tweets were liked or Retweeted.<br>• Respond to replies or be alerted to Tweets you were mentioned in.<br><br>Don’t want to be public? You can make your account private so only people you want can follow you and see your Tweets.<br><br>Can’t download? Access Twitter Lite on mobile.twitter.com <br>Learn how to use Twitter Lite in the Help Center<br><br>Twitter Lite is currently compatible with devices supporting Android versions 5.0 and above.', 'summary': 'Get world news, entertainment, politics, and sports highlights with less data', 'installs': '10,000,000+', 'minInstalls': 10000000, 'realInstalls': 46766871, 'score': 3.81, 'ratings': 207566, 'reviews': 187, 'histogram': [47599, 3901, 10144, 22629, 122120], 'price': 0, 'free': True, 'currency': 'USD', 'sale': False, 'saleTime': None, 'originalPrice': None, 'saleText': None, 'offersIAP': False, 'inAppProductPrice': None, 'developer': 'Twitter, Inc.', 'developerId': 'Twitter,+Inc.', 'developerEmail': 'google-play-emails@twitter.com', 'developerWebsite': 'http://twitter.com', 'developerAddress': 'Twitter, Inc.\\n1355 Market Street, Suite 900\\nSan Francisco, CA 94103', 'privacyPolicy': 'https://twitter.com/en/privacy', 'genre': 'News & Magazines', 'genreId': 'NEWS_AND_MAGAZINES', 'icon': 'https://play-lh.googleusercontent.com/5zWoJx0NdfgUiz-w9IMbZ1lAdohZ7qr-CiAXqjwGcMCgDsQVdq_VZUAgFpYpdg612p0', 'headerImage': 'https://play-lh.googleusercontent.com/5lGO0JesfsI6yqVzj0znkjWffluOgoWnhDZSmlULSKfDH2lKl1vrvuhWFx1t91HbFsk', 'screenshots': ['https://play-lh.googleusercontent.com/9DuKvdTeliYlrpx5vHfkir9M7Pz2J2noS_LH93Fk4IGKt67er6urRX1mWYR0TvCB8Gk', 'https://play-lh.googleusercontent.com/HWZ8VNXy8nX98Gr6h8Cl0XwHHTr_m3_0VIXK8hVdKzNRhq-bJR-AWNtU9DEZaI3EIEQ', 'https://play-lh.googleusercontent.com/LRtR_4vibizaDrVq0QnZOyEmngM_DDlAzpw-zZ9wynFKXL2oEfOasIYYuggt99E3PGNQ', 'https://play-lh.googleusercontent.com/ES1BKA8zaCbdTY0rmbkrmkiqrYRwUrdy3cezTv_i5yYUI7JSrzniz2OChZJedzp06GQ', 'https://play-lh.googleusercontent.com/ZyFE8X-Y4j2uEFkHR_VKhUrVgcpDd7-NhcJ7jRcOzl9cfG6IGKNbJQigk6NE0jZsf70t'], 'video': None, 'videoImage': None, 'contentRating': 'Mature 17+', 'contentRatingDescription': None, 'adSupported': True, 'containsAds': True, 'released': None, 'updated': 1622146798, 'version': '3.1.1', 'comments': [\"lighter and less convenience. of course, it's slower. it's very slow in loading images or playing videos. and i always encounter this glitch or bug that whenever i click on a tweet, it instead shows the post above it! it freezes a lot more than Twitter, so i have to manually restart to application to work normally again. it works the same as the web version of Twitter, so i will use this as a complain to both sites.\", \"I think the lite version is very good. But there is still some area that need to be fix. First, when i push the menu button on the top left corner, the menu show up kinda slow, laggy. Then the second one is, when i scroll down someone's tweet quite long, then i push and see the tweet, but after push the back button, the position is back to the first tweet. I hope u can fix this. If the problem fix, it will be awesome.\", 'Some time ago twitter added this feature, when you open application once in a while and get lots of annoying notifications \"in case you missed\". Lots of people hate it but no one have found a way to turn it off. Option \"see less often\" doesn\\'t work. For me that ruins everything. There\\'s no sense in communicating with friends if every time you anticipate an answer you get another one \"in case you missed\".', 'It crashes sometimes, the screen goes flickering white and black, it\\'s kinda scary. Also, I miss the non-lite feature of saving my feed scroll position, I wonder if it takes much more space to add that feature, but anyway that\\'s not a big deal. On the other hand, I find the \"home\" button on top of the screen to be somehow annoying, it often makes me lose my feed position by accidentally pressing it. Maybe make it smaller. It\\'s not that bad after all, but it could be better.', \"I've had a wonderful experience with this app. Whether it's the features, or simply just the look, the amazing! Although, there are a few issues I'd like to address: 1) UPLOADING PHOTOS This has never been an issue until recently; whenever I try to upload a photo, the just takes me back to the homepage.Please Fix Immediately! 2) TWEET CAPACITY This may not be a problem for many, but it certainly is for me. The capacity of letters allowed to be used in tweets is FAR too low.Not Very Urgent\", \"Considering it's the lighter version, it's of course slower. Image loading is slow, going back to the timeline from an image is slow, whenever you clicked outside the app it will always show the top of your timeline meaning it doesn't pick up your last location. Perfect for inactive twitter user who uses the app every once in a while. God bless! ♥️☝️\", \"It is lite. But, with such lightness comes with some disadvantages. Everything is smooth & enjoyable until you watch video on the app. Once you're done, it somehow turn the table upside down. Every inch of this app feels sluggish, even typing isn't convenient as it was. The same goes whenever I tapped on a tweet, say, a thread, the similar problem emerges. Normally, it will be fine after I exit, remove Twitter Lite from multitask, and re-launch.\", \"I use the lite version. I've managed to make it very smooth by tweaking the underlying Chrome browser, and Android system. But it is consistently manifesting a flaw: although I've set it to receive an SMS message in a 2-factor authentication process, I never get it. I use a backup code I have saved beforehand, which could be troublesome as I write it down and don't carry it around. Please fix this. Thanks.\", \"Everything is barely working in the first place. But clearly the developer of this app hated that, so they included a TikTok mode for whenever you want to open a video. But here's the kicker: the video never starts! Not even when you tap the play button! How forward thinking! Imagine, a video that you CAN'T play!\", \"It does what it does, just lighter and with less convenience. I downloaded it for a smoother experience, but it seems to be slower and freezes very often. Even when just scrolling through, retweeting or clicking on images. Speaking of images, what you click on the frontend leads you to a previous tweet or image, which is frustrating knowing that opening and closing tweet takes aeons to do, if not already frozen. As if what you see isn't aligned with actual tweets.\", \"New version is riddled with bugs. Keyboard won't pop up here and there, media uploads won't work properly if default browser is Firefox, and most annoyingly switching to another app then returning to Twitter Lite often ends up with a black screen that cannot be recovered from without force closing and restarting. App went from perfectly working to barely usable. Would be happy to provide proper bug reports, alas, no way of communication other than these ratings here to be found.\", 'Horrible update. Constantly stuck loading, feed auto updates so if your reading something get ready for it to disappear randomly. They\\'ve updated your feed to show you \"most relevant\" tweets so it constantly shows you tweets or news from days ago which is really annoying. User search history is constantly cleared for no reason, same as settings. I find myself constantly having to go to settings and make the font bigger, since every time I close the app it goes back to default. Horrible update!!', \"Always lags and crashes every single time I use it. I can't use the app for too long and boom, it has crashed. And it's rather strange the way it consumes so much memory, more than any other app I have on my device (including the actual Twitter app). And there's also the fact that I'm totally unable to upload videos whenever I use it. I really hope these are fixed but I don't have much hopes since it's been ages since the app got updated.\", \"It's not an app, it is essentially a URL to the website. You can tell because the page you get when you tap it says the app has better features than the Web page that you're on! And it displays a link to download the full app. Don't be lazy titter, actually code up a genuinely lighter app instead of hiding a Web page as a fake app.\", \"I would have given at least 3 or 4 stars if the app doesn't crash. I like that it has scheduled tweet and has smaller fonts than the normal app however, it is a lot slower. Also, my biggest problem is that the screen flickers (black and white) a lot of times. Please fix this. Thank you.\", \"Good, but needs to be refined more. Whenever the app is open, the feed should start at the last tweet you saw when the app was last opened. It's not that smooth either. Although being able to change colors is a nice touch, the experience doesnt make it worth it enough. Just go to the original app. If you want the color change so bad, just use the web app.\", 'update: since the app didn\\'t have any updates at all, I\\'m switching back to the \"normal\" version. the app overall is not bad, but the one thing is annoying me pretty much is that the notifications won\\'t work properly, I tap on the notification and it will open a random tweet (sometimes not even from the accounts I asked to be notified), it ends up useless.', 'Frustrated and Annoyed! Recently, this app has been crashing for no reason. I can no longer open my settings page or even play a single video. It keeps on saying \"Something went wrong\" and \"Try Again\". The notifications do not refresh. They keep on being unread even after I refresh umpteen times after I\\'ve cleared the cache, and that is REALLY annoying. Please fix these bugs ASAP!', \"Twitter lite is so bad, it uses the browser to piggy back off which means you're running a shortcut with a mask, so 2 apps, it's supposed to be lite data wise but those features are just annoying, like every image is blurred with the words tap to load image... On every single thing... Most posts have a visual element so it's just pointless... On top of it all it doesn't function correctly, it's forever restarting and reloading itself, the app always crashes if you type a tweet that's shared!\", \"The app went south when it was suppose to go north. Practically you can't do anything with it, but to browse through, compare to its former glory days, it is only useful to type. I don't know what you have improved, I only see the downgrade, you should have left the app as it is, can't access my photos, whilst before I could. Whoever wants to update Twitter lite, don't.\", \"Just four stars because I always get in trouble whenever I want to change my display picture and cover photo. It won't upload after I try to choose a picture and instead it will go back always to my home or feed. That's only my concern. All in all, it works the same like the official one. Hope you could fix this one because it's tiring to change photos on browser.\", \"It's been working fine...then the last 3 days it won't load and play video content. The loading circle spins and spins then says video can't be loaded. Retry brings up the same. Other than that I'm happy enough with it for what I need. Space is more important than bulky stuff I never use...just fix my videos! I hear it's the same on the website 😕\", \"it's really good i can almost tell no difference from the non-lite version. however, is it just me, or do the videos not work? the pictures are still displayed but videos won't ever play. i tried re-installing but it didn't help. it hasn't always been like this either, videos used to work just fine.\", \"Once upon I time, it was fast and responsive. But now the app becomes totally sluggish and laggy. I've installed the non lite version (In which I had to uninstall about 5 other apps due to my extremely low internal storage) and the performance difference is far better on the regular version. Plus with chrome connection idk... It's getting worse. The older version of this version is 1000 times better than this one to be honest. I hope you guys can improve this app performance :)\", \"I've already disabled 'allow background data' and yet it still gives me notification such as 'recommended for you' and a person's twitter that my friends follow. its annoying. However, it's a good app. it's lightweight, less ram consuming and nice interface. Overall, it's a fine alternative for a low end smartphones to use twitter rather than installing the other twitter app that is just too heavy.\", \"Worked perfectly in the past but for the last couple of months, the app doesn't even open anymore and is perma stuck at the starting screen with the big Twitter logo. Other people complained, too. No fix so far. It doesn't matter if un- & reinstall, deleting data, clearing cache, even factory resetting the whole device doesn't work.\", '39/09/22 - Now has option to add more than one account (max of 5) still needs setting to turn off image previews in timeline in favour of a text link (as main app has) to open images or videos as required. Great having the ability to increase the text size font but needs to be bigger. Something the full fat, app needs. Seems to have been abandoned, no updates for ages.', \"When i first got this app, i didn't have problems with it. But for the past few months, the app just hangs randomly. If i click on the like button, it might just retweet the tweet instead. I don't understand it and I'm getting frustrated. Also, it just closes for no reason. Out of the blue. And i sometimes have to close the app abd open it again when it starts acting up. This is not my phone's problem. No app on my phone acts like this; it's only Twitter Lite.\", \"Has been working well for me and my flatmates as we share a device and can log out of the app and allow someone else to log in to their twitter account (unlike the regular app). But lately Twitter Lite won't load anything after log in and it WON'T EVEN LET YOU LOG OUT PROPERLY. The only solution being to uninstall the app. I hope this is just temporary because it's left us all high and dry.\", 'App not so good. Needs to be made more friendly.. 1) Home page refreshes & goes to recent tweets: When i check specific tweet on home page & come back on home page, it doesnot stay on the page where i was checking, instead takes me to the start of the page & i get lost wher i was before. 2) If we have already added to list, it doesnot show a check mark as selected. 3) Longpressing on a photo, doesnot shows up, even .jpg file wud be 0B in size & unable to see in gallery. Earlier versn was fine !', \"Definitely it is a great application but in the case of exciting, this return option traces all it's own path finally taking to home from where we can exit. On experiencing the same difficulty along with my crew, we suggest that exciting application can be designed with two continuous click on return button as like your other competitors did. Hope, this feedback helps you to identify the next-level of improvements! Regards, Santhosh K Chandrasekaran\", \"though it does cleared up a lot more spaces than the regular version but this feels like I'm surfing on browser version of an app. the auto-refresh timeline happens even more often than the regular version. sorry had to delete this and go back to the regular app, no matter how much storage I wanna save. I cant with this\", \"I like this android app. It is light on the phone's resources. However, it's poorly coded in that this light version of the app crashes more than once; just when you are interacting with the feed. Therefore, I'm uninstalling it in favor of the full version of the Android app.\", \"It's not stable like facebook lite. Its just a browser that design only to run twitter. And its so many bugs. Hoping it will improved in the next updates. The reason why I use twitter lite because The original version using too much storage and my storage is running out.\", \"For some reason I can't upload videos anymore. Any video at all. It doesn't even show the option to upload videos. Also the app constantly misclicks (meaning I touch one tweet and it acts as if I touched another one), and sometimes when a video is playing the screen goes all black for no reason. I'm rather disappointed.\", \"Because this app actually based on Chrome web app platfrom, which means just access it like we do via browser, some issues may appear. And also the buttons seems like too small, i sometimes misclick it and it's so annoying. It also sometimes refresh itself after i switching from other apps even the app doesn't get forced to close because ran out of memory. Remembering that memory allocation for Chrome is too small.\", 'This is good and saves space like it is designed to. However, two factors should be fixed. 1. Since video streaming is possible, why is video uploading not possible? 2. If i spend 20-30 minutes on this app, I will have to restart cause it slows down and then crashes. Its a constant reoccurrence.', 'The new improved(?) version is just a Chrome app/extension/bookmark. It\\'s not a stand-alone Android app anymore. To all who is on lower/older versions: DON\\'T, I REPEAT DON\\'T UPDATE THIS APP. Downgrade this app if upgraded or remove it and use the browser instead. You can use the \"Add to home screen\" feature of the browser if you want a shortcut. This app became just that. So no need to install this app separately. DON\\'T INSTALL THIS APP. Use browser instead.', 'Good but there seems to be a bug where pressing anything on the app takes it to the next screen and then instantly goes back to the one before. Not sure what triggers it but I think it\\'s when you go to the Twitter lite app via another app. Say I click on a Twitter link in Chrome and it takes me to the app. I then press the tweet button in that thread I just went to. It will go to the \"write tweet\" screen briefly then go back to the previous screen. Only fix is to close the app.', 'Would be quite happy with this Lite version, but there is a bug which keeps changing my settings with my trending preferences. I have then set to UK, but it keeps re-checking the box to personalise the trends which I do not want. I have tried clearing settings, cache, uninstalling etc - nothing seems to fix it.'], 'appId': 'com.twitter.android.lite', 'url': 'https://play.google.com/store/apps/details?id=com.twitter.android.lite&hl=en&gl=us'}\n"
          ]
        }
      ]
    },
    {
      "cell_type": "code",
      "source": [
        "from google_play_scraper import Sort, reviews_all\n"
      ],
      "metadata": {
        "id": "IcIBTMzgU-ob"
      },
      "execution_count": null,
      "outputs": []
    },
    {
      "cell_type": "code",
      "source": [
        "result4 = reviews_all(\n",
        "    'com.securitybank',\n",
        "    sleep_milliseconds=0,\n",
        "    lang='en',\n",
        "    country='us',\n",
        "    count=50,\n",
        "    sort=Sort.MOST_RELEVANT,\n",
        "    filter_score_with=None,\n",
        ")"
      ],
      "metadata": {
        "id": "ZAwO0ehXW2mp"
      },
      "execution_count": null,
      "outputs": []
    },
    {
      "cell_type": "code",
      "source": [
        "df4 = pd.DataFrame (result4, columns = ['reviewId', 'userName', 'userImage', 'content', 'score', 'thumbsUpCount', 'at', 'replyContent'])"
      ],
      "metadata": {
        "id": "Kaoda9YTZkuZ"
      },
      "execution_count": null,
      "outputs": []
    },
    {
      "cell_type": "code",
      "source": [
        "df4.head()"
      ],
      "metadata": {
        "colab": {
          "base_uri": "https://localhost:8080/",
          "height": 617
        },
        "id": "aeippfpPZ-jk",
        "outputId": "60cb2659-43f2-4b2a-b4f2-5dda22b7a3cf"
      },
      "execution_count": null,
      "outputs": [
        {
          "output_type": "execute_result",
          "data": {
            "text/plain": [
              "                               reviewId         userName  \\\n",
              "0  bfb72e47-de38-42e4-8949-2b9818529122           Nikkie   \n",
              "1  acba26a1-df05-48b0-8bc4-7def5c4fb538  Matthew Scholze   \n",
              "2  d8dea88d-e0d3-422b-8072-8411fd17656e  Chivas Baliguas   \n",
              "3  ef432236-51e9-44ed-99e6-d9b9be09923f    jerome Ocampo   \n",
              "4  1ce037fa-bab9-4351-aeaa-70d68b2fef42   Jocelyn Iwayan   \n",
              "\n",
              "                                           userImage  \\\n",
              "0  https://play-lh.googleusercontent.com/a-/AD5-W...   \n",
              "1  https://play-lh.googleusercontent.com/a-/AD5-W...   \n",
              "2  https://play-lh.googleusercontent.com/a-/AD5-W...   \n",
              "3  https://play-lh.googleusercontent.com/a-/AD5-W...   \n",
              "4  https://play-lh.googleusercontent.com/a-/AD5-W...   \n",
              "\n",
              "                                             content  score  thumbsUpCount  \\\n",
              "0  I used to like this app a lot - very convenien...      1             10   \n",
              "1  Overall, Average simple app. Very basic. Simil...      3             32   \n",
              "2  so fae I have no issues with this app. Transfe...      4              1   \n",
              "3  Everytime I am using this, my account got lock...      1              0   \n",
              "4  SUPER FAULTY. Even with fast connection, even ...      1             20   \n",
              "\n",
              "                   at                                       replyContent  \n",
              "0 2021-12-29 09:07:27                                               None  \n",
              "1 2022-05-19 08:33:25  Hi Matthew, we are sorry to hear this. Please ...  \n",
              "2 2022-11-18 10:33:03  We are glad to know that, Chivas. We’ll share ...  \n",
              "3 2023-01-30 17:16:20  Hi Jerome, we are sorry to hear this. Please f...  \n",
              "4 2022-10-29 00:46:46  Hi Jocelyn, please accept our sincere apologie...  "
            ],
            "text/html": [
              "\n",
              "  <div id=\"df-ebb6b75f-8a75-4c2f-a7c2-66409f3becd1\">\n",
              "    <div class=\"colab-df-container\">\n",
              "      <div>\n",
              "<style scoped>\n",
              "    .dataframe tbody tr th:only-of-type {\n",
              "        vertical-align: middle;\n",
              "    }\n",
              "\n",
              "    .dataframe tbody tr th {\n",
              "        vertical-align: top;\n",
              "    }\n",
              "\n",
              "    .dataframe thead th {\n",
              "        text-align: right;\n",
              "    }\n",
              "</style>\n",
              "<table border=\"1\" class=\"dataframe\">\n",
              "  <thead>\n",
              "    <tr style=\"text-align: right;\">\n",
              "      <th></th>\n",
              "      <th>reviewId</th>\n",
              "      <th>userName</th>\n",
              "      <th>userImage</th>\n",
              "      <th>content</th>\n",
              "      <th>score</th>\n",
              "      <th>thumbsUpCount</th>\n",
              "      <th>at</th>\n",
              "      <th>replyContent</th>\n",
              "    </tr>\n",
              "  </thead>\n",
              "  <tbody>\n",
              "    <tr>\n",
              "      <th>0</th>\n",
              "      <td>bfb72e47-de38-42e4-8949-2b9818529122</td>\n",
              "      <td>Nikkie</td>\n",
              "      <td>https://play-lh.googleusercontent.com/a-/AD5-W...</td>\n",
              "      <td>I used to like this app a lot - very convenien...</td>\n",
              "      <td>1</td>\n",
              "      <td>10</td>\n",
              "      <td>2021-12-29 09:07:27</td>\n",
              "      <td>None</td>\n",
              "    </tr>\n",
              "    <tr>\n",
              "      <th>1</th>\n",
              "      <td>acba26a1-df05-48b0-8bc4-7def5c4fb538</td>\n",
              "      <td>Matthew Scholze</td>\n",
              "      <td>https://play-lh.googleusercontent.com/a-/AD5-W...</td>\n",
              "      <td>Overall, Average simple app. Very basic. Simil...</td>\n",
              "      <td>3</td>\n",
              "      <td>32</td>\n",
              "      <td>2022-05-19 08:33:25</td>\n",
              "      <td>Hi Matthew, we are sorry to hear this. Please ...</td>\n",
              "    </tr>\n",
              "    <tr>\n",
              "      <th>2</th>\n",
              "      <td>d8dea88d-e0d3-422b-8072-8411fd17656e</td>\n",
              "      <td>Chivas Baliguas</td>\n",
              "      <td>https://play-lh.googleusercontent.com/a-/AD5-W...</td>\n",
              "      <td>so fae I have no issues with this app. Transfe...</td>\n",
              "      <td>4</td>\n",
              "      <td>1</td>\n",
              "      <td>2022-11-18 10:33:03</td>\n",
              "      <td>We are glad to know that, Chivas. We’ll share ...</td>\n",
              "    </tr>\n",
              "    <tr>\n",
              "      <th>3</th>\n",
              "      <td>ef432236-51e9-44ed-99e6-d9b9be09923f</td>\n",
              "      <td>jerome Ocampo</td>\n",
              "      <td>https://play-lh.googleusercontent.com/a-/AD5-W...</td>\n",
              "      <td>Everytime I am using this, my account got lock...</td>\n",
              "      <td>1</td>\n",
              "      <td>0</td>\n",
              "      <td>2023-01-30 17:16:20</td>\n",
              "      <td>Hi Jerome, we are sorry to hear this. Please f...</td>\n",
              "    </tr>\n",
              "    <tr>\n",
              "      <th>4</th>\n",
              "      <td>1ce037fa-bab9-4351-aeaa-70d68b2fef42</td>\n",
              "      <td>Jocelyn Iwayan</td>\n",
              "      <td>https://play-lh.googleusercontent.com/a-/AD5-W...</td>\n",
              "      <td>SUPER FAULTY. Even with fast connection, even ...</td>\n",
              "      <td>1</td>\n",
              "      <td>20</td>\n",
              "      <td>2022-10-29 00:46:46</td>\n",
              "      <td>Hi Jocelyn, please accept our sincere apologie...</td>\n",
              "    </tr>\n",
              "  </tbody>\n",
              "</table>\n",
              "</div>\n",
              "      <button class=\"colab-df-convert\" onclick=\"convertToInteractive('df-ebb6b75f-8a75-4c2f-a7c2-66409f3becd1')\"\n",
              "              title=\"Convert this dataframe to an interactive table.\"\n",
              "              style=\"display:none;\">\n",
              "        \n",
              "  <svg xmlns=\"http://www.w3.org/2000/svg\" height=\"24px\"viewBox=\"0 0 24 24\"\n",
              "       width=\"24px\">\n",
              "    <path d=\"M0 0h24v24H0V0z\" fill=\"none\"/>\n",
              "    <path d=\"M18.56 5.44l.94 2.06.94-2.06 2.06-.94-2.06-.94-.94-2.06-.94 2.06-2.06.94zm-11 1L8.5 8.5l.94-2.06 2.06-.94-2.06-.94L8.5 2.5l-.94 2.06-2.06.94zm10 10l.94 2.06.94-2.06 2.06-.94-2.06-.94-.94-2.06-.94 2.06-2.06.94z\"/><path d=\"M17.41 7.96l-1.37-1.37c-.4-.4-.92-.59-1.43-.59-.52 0-1.04.2-1.43.59L10.3 9.45l-7.72 7.72c-.78.78-.78 2.05 0 2.83L4 21.41c.39.39.9.59 1.41.59.51 0 1.02-.2 1.41-.59l7.78-7.78 2.81-2.81c.8-.78.8-2.07 0-2.86zM5.41 20L4 18.59l7.72-7.72 1.47 1.35L5.41 20z\"/>\n",
              "  </svg>\n",
              "      </button>\n",
              "      \n",
              "  <style>\n",
              "    .colab-df-container {\n",
              "      display:flex;\n",
              "      flex-wrap:wrap;\n",
              "      gap: 12px;\n",
              "    }\n",
              "\n",
              "    .colab-df-convert {\n",
              "      background-color: #E8F0FE;\n",
              "      border: none;\n",
              "      border-radius: 50%;\n",
              "      cursor: pointer;\n",
              "      display: none;\n",
              "      fill: #1967D2;\n",
              "      height: 32px;\n",
              "      padding: 0 0 0 0;\n",
              "      width: 32px;\n",
              "    }\n",
              "\n",
              "    .colab-df-convert:hover {\n",
              "      background-color: #E2EBFA;\n",
              "      box-shadow: 0px 1px 2px rgba(60, 64, 67, 0.3), 0px 1px 3px 1px rgba(60, 64, 67, 0.15);\n",
              "      fill: #174EA6;\n",
              "    }\n",
              "\n",
              "    [theme=dark] .colab-df-convert {\n",
              "      background-color: #3B4455;\n",
              "      fill: #D2E3FC;\n",
              "    }\n",
              "\n",
              "    [theme=dark] .colab-df-convert:hover {\n",
              "      background-color: #434B5C;\n",
              "      box-shadow: 0px 1px 3px 1px rgba(0, 0, 0, 0.15);\n",
              "      filter: drop-shadow(0px 1px 2px rgba(0, 0, 0, 0.3));\n",
              "      fill: #FFFFFF;\n",
              "    }\n",
              "  </style>\n",
              "\n",
              "      <script>\n",
              "        const buttonEl =\n",
              "          document.querySelector('#df-ebb6b75f-8a75-4c2f-a7c2-66409f3becd1 button.colab-df-convert');\n",
              "        buttonEl.style.display =\n",
              "          google.colab.kernel.accessAllowed ? 'block' : 'none';\n",
              "\n",
              "        async function convertToInteractive(key) {\n",
              "          const element = document.querySelector('#df-ebb6b75f-8a75-4c2f-a7c2-66409f3becd1');\n",
              "          const dataTable =\n",
              "            await google.colab.kernel.invokeFunction('convertToInteractive',\n",
              "                                                     [key], {});\n",
              "          if (!dataTable) return;\n",
              "\n",
              "          const docLinkHtml = 'Like what you see? Visit the ' +\n",
              "            '<a target=\"_blank\" href=https://colab.research.google.com/notebooks/data_table.ipynb>data table notebook</a>'\n",
              "            + ' to learn more about interactive tables.';\n",
              "          element.innerHTML = '';\n",
              "          dataTable['output_type'] = 'display_data';\n",
              "          await google.colab.output.renderOutput(dataTable, element);\n",
              "          const docLink = document.createElement('div');\n",
              "          docLink.innerHTML = docLinkHtml;\n",
              "          element.appendChild(docLink);\n",
              "        }\n",
              "      </script>\n",
              "    </div>\n",
              "  </div>\n",
              "  "
            ]
          },
          "metadata": {},
          "execution_count": 48
        }
      ]
    },
    {
      "cell_type": "code",
      "source": [
        "len (df4.index)"
      ],
      "metadata": {
        "colab": {
          "base_uri": "https://localhost:8080/"
        },
        "id": "W6yG_t3Mbq8A",
        "outputId": "a3ccb32c-d7f4-40c3-d05a-bf3978017d9a"
      },
      "execution_count": null,
      "outputs": [
        {
          "output_type": "execute_result",
          "data": {
            "text/plain": [
              "6587"
            ]
          },
          "metadata": {},
          "execution_count": 49
        }
      ]
    },
    {
      "cell_type": "code",
      "source": [
        "df4[['content', 'score', 'thumbsUpCount', 'at']].head()"
      ],
      "metadata": {
        "colab": {
          "base_uri": "https://localhost:8080/",
          "height": 206
        },
        "id": "bX1U3JUPbzu8",
        "outputId": "90e5e0b1-a6ae-4a76-8c2c-951e850354ca"
      },
      "execution_count": null,
      "outputs": [
        {
          "output_type": "execute_result",
          "data": {
            "text/plain": [
              "                                             content  score  thumbsUpCount  \\\n",
              "0  I used to like this app a lot - very convenien...      1             10   \n",
              "1  Overall, Average simple app. Very basic. Simil...      3             32   \n",
              "2  so fae I have no issues with this app. Transfe...      4              1   \n",
              "3  Everytime I am using this, my account got lock...      1              0   \n",
              "4  SUPER FAULTY. Even with fast connection, even ...      1             20   \n",
              "\n",
              "                   at  \n",
              "0 2021-12-29 09:07:27  \n",
              "1 2022-05-19 08:33:25  \n",
              "2 2022-11-18 10:33:03  \n",
              "3 2023-01-30 17:16:20  \n",
              "4 2022-10-29 00:46:46  "
            ],
            "text/html": [
              "\n",
              "  <div id=\"df-7d98c1a7-cd9d-462d-91ef-34a0273a2762\">\n",
              "    <div class=\"colab-df-container\">\n",
              "      <div>\n",
              "<style scoped>\n",
              "    .dataframe tbody tr th:only-of-type {\n",
              "        vertical-align: middle;\n",
              "    }\n",
              "\n",
              "    .dataframe tbody tr th {\n",
              "        vertical-align: top;\n",
              "    }\n",
              "\n",
              "    .dataframe thead th {\n",
              "        text-align: right;\n",
              "    }\n",
              "</style>\n",
              "<table border=\"1\" class=\"dataframe\">\n",
              "  <thead>\n",
              "    <tr style=\"text-align: right;\">\n",
              "      <th></th>\n",
              "      <th>content</th>\n",
              "      <th>score</th>\n",
              "      <th>thumbsUpCount</th>\n",
              "      <th>at</th>\n",
              "    </tr>\n",
              "  </thead>\n",
              "  <tbody>\n",
              "    <tr>\n",
              "      <th>0</th>\n",
              "      <td>I used to like this app a lot - very convenien...</td>\n",
              "      <td>1</td>\n",
              "      <td>10</td>\n",
              "      <td>2021-12-29 09:07:27</td>\n",
              "    </tr>\n",
              "    <tr>\n",
              "      <th>1</th>\n",
              "      <td>Overall, Average simple app. Very basic. Simil...</td>\n",
              "      <td>3</td>\n",
              "      <td>32</td>\n",
              "      <td>2022-05-19 08:33:25</td>\n",
              "    </tr>\n",
              "    <tr>\n",
              "      <th>2</th>\n",
              "      <td>so fae I have no issues with this app. Transfe...</td>\n",
              "      <td>4</td>\n",
              "      <td>1</td>\n",
              "      <td>2022-11-18 10:33:03</td>\n",
              "    </tr>\n",
              "    <tr>\n",
              "      <th>3</th>\n",
              "      <td>Everytime I am using this, my account got lock...</td>\n",
              "      <td>1</td>\n",
              "      <td>0</td>\n",
              "      <td>2023-01-30 17:16:20</td>\n",
              "    </tr>\n",
              "    <tr>\n",
              "      <th>4</th>\n",
              "      <td>SUPER FAULTY. Even with fast connection, even ...</td>\n",
              "      <td>1</td>\n",
              "      <td>20</td>\n",
              "      <td>2022-10-29 00:46:46</td>\n",
              "    </tr>\n",
              "  </tbody>\n",
              "</table>\n",
              "</div>\n",
              "      <button class=\"colab-df-convert\" onclick=\"convertToInteractive('df-7d98c1a7-cd9d-462d-91ef-34a0273a2762')\"\n",
              "              title=\"Convert this dataframe to an interactive table.\"\n",
              "              style=\"display:none;\">\n",
              "        \n",
              "  <svg xmlns=\"http://www.w3.org/2000/svg\" height=\"24px\"viewBox=\"0 0 24 24\"\n",
              "       width=\"24px\">\n",
              "    <path d=\"M0 0h24v24H0V0z\" fill=\"none\"/>\n",
              "    <path d=\"M18.56 5.44l.94 2.06.94-2.06 2.06-.94-2.06-.94-.94-2.06-.94 2.06-2.06.94zm-11 1L8.5 8.5l.94-2.06 2.06-.94-2.06-.94L8.5 2.5l-.94 2.06-2.06.94zm10 10l.94 2.06.94-2.06 2.06-.94-2.06-.94-.94-2.06-.94 2.06-2.06.94z\"/><path d=\"M17.41 7.96l-1.37-1.37c-.4-.4-.92-.59-1.43-.59-.52 0-1.04.2-1.43.59L10.3 9.45l-7.72 7.72c-.78.78-.78 2.05 0 2.83L4 21.41c.39.39.9.59 1.41.59.51 0 1.02-.2 1.41-.59l7.78-7.78 2.81-2.81c.8-.78.8-2.07 0-2.86zM5.41 20L4 18.59l7.72-7.72 1.47 1.35L5.41 20z\"/>\n",
              "  </svg>\n",
              "      </button>\n",
              "      \n",
              "  <style>\n",
              "    .colab-df-container {\n",
              "      display:flex;\n",
              "      flex-wrap:wrap;\n",
              "      gap: 12px;\n",
              "    }\n",
              "\n",
              "    .colab-df-convert {\n",
              "      background-color: #E8F0FE;\n",
              "      border: none;\n",
              "      border-radius: 50%;\n",
              "      cursor: pointer;\n",
              "      display: none;\n",
              "      fill: #1967D2;\n",
              "      height: 32px;\n",
              "      padding: 0 0 0 0;\n",
              "      width: 32px;\n",
              "    }\n",
              "\n",
              "    .colab-df-convert:hover {\n",
              "      background-color: #E2EBFA;\n",
              "      box-shadow: 0px 1px 2px rgba(60, 64, 67, 0.3), 0px 1px 3px 1px rgba(60, 64, 67, 0.15);\n",
              "      fill: #174EA6;\n",
              "    }\n",
              "\n",
              "    [theme=dark] .colab-df-convert {\n",
              "      background-color: #3B4455;\n",
              "      fill: #D2E3FC;\n",
              "    }\n",
              "\n",
              "    [theme=dark] .colab-df-convert:hover {\n",
              "      background-color: #434B5C;\n",
              "      box-shadow: 0px 1px 3px 1px rgba(0, 0, 0, 0.15);\n",
              "      filter: drop-shadow(0px 1px 2px rgba(0, 0, 0, 0.3));\n",
              "      fill: #FFFFFF;\n",
              "    }\n",
              "  </style>\n",
              "\n",
              "      <script>\n",
              "        const buttonEl =\n",
              "          document.querySelector('#df-7d98c1a7-cd9d-462d-91ef-34a0273a2762 button.colab-df-convert');\n",
              "        buttonEl.style.display =\n",
              "          google.colab.kernel.accessAllowed ? 'block' : 'none';\n",
              "\n",
              "        async function convertToInteractive(key) {\n",
              "          const element = document.querySelector('#df-7d98c1a7-cd9d-462d-91ef-34a0273a2762');\n",
              "          const dataTable =\n",
              "            await google.colab.kernel.invokeFunction('convertToInteractive',\n",
              "                                                     [key], {});\n",
              "          if (!dataTable) return;\n",
              "\n",
              "          const docLinkHtml = 'Like what you see? Visit the ' +\n",
              "            '<a target=\"_blank\" href=https://colab.research.google.com/notebooks/data_table.ipynb>data table notebook</a>'\n",
              "            + ' to learn more about interactive tables.';\n",
              "          element.innerHTML = '';\n",
              "          dataTable['output_type'] = 'display_data';\n",
              "          await google.colab.output.renderOutput(dataTable, element);\n",
              "          const docLink = document.createElement('div');\n",
              "          docLink.innerHTML = docLinkHtml;\n",
              "          element.appendChild(docLink);\n",
              "        }\n",
              "      </script>\n",
              "    </div>\n",
              "  </div>\n",
              "  "
            ]
          },
          "metadata": {},
          "execution_count": 50
        }
      ]
    },
    {
      "cell_type": "code",
      "source": [],
      "metadata": {
        "id": "WGextEOccUcv"
      },
      "execution_count": null,
      "outputs": []
    },
    {
      "cell_type": "code",
      "source": [
        "df = df4[['content', 'score', 'at']]\n",
        "sorteddf = df.sort_values(by='at', ascending=True)\n",
        "sorteddf.head()"
      ],
      "metadata": {
        "colab": {
          "base_uri": "https://localhost:8080/",
          "height": 206
        },
        "id": "BO-N2o6uc6pH",
        "outputId": "95a0e55b-fef8-419a-9ea6-a0365744719e"
      },
      "execution_count": null,
      "outputs": [
        {
          "output_type": "execute_result",
          "data": {
            "text/plain": [
              "                                                content  score  \\\n",
              "6124  Downloaded the app and was happy to see how ea...      5   \n",
              "6118  I love how simple it is. No need to go through...      5   \n",
              "6318              BetterBanking on the go. Thumbs up! 👍      5   \n",
              "6137                               Yay for Android app!      5   \n",
              "6256  Great how transferring funds to my other accou...      5   \n",
              "\n",
              "                      at  \n",
              "6124 2015-07-29 14:40:42  \n",
              "6118 2015-07-29 14:50:12  \n",
              "6318 2015-07-29 15:53:33  \n",
              "6137 2015-07-30 01:20:48  \n",
              "6256 2015-07-30 01:35:29  "
            ],
            "text/html": [
              "\n",
              "  <div id=\"df-1fafcd4a-23c6-4ea3-bfbb-8effb07afcf4\">\n",
              "    <div class=\"colab-df-container\">\n",
              "      <div>\n",
              "<style scoped>\n",
              "    .dataframe tbody tr th:only-of-type {\n",
              "        vertical-align: middle;\n",
              "    }\n",
              "\n",
              "    .dataframe tbody tr th {\n",
              "        vertical-align: top;\n",
              "    }\n",
              "\n",
              "    .dataframe thead th {\n",
              "        text-align: right;\n",
              "    }\n",
              "</style>\n",
              "<table border=\"1\" class=\"dataframe\">\n",
              "  <thead>\n",
              "    <tr style=\"text-align: right;\">\n",
              "      <th></th>\n",
              "      <th>content</th>\n",
              "      <th>score</th>\n",
              "      <th>at</th>\n",
              "    </tr>\n",
              "  </thead>\n",
              "  <tbody>\n",
              "    <tr>\n",
              "      <th>6124</th>\n",
              "      <td>Downloaded the app and was happy to see how ea...</td>\n",
              "      <td>5</td>\n",
              "      <td>2015-07-29 14:40:42</td>\n",
              "    </tr>\n",
              "    <tr>\n",
              "      <th>6118</th>\n",
              "      <td>I love how simple it is. No need to go through...</td>\n",
              "      <td>5</td>\n",
              "      <td>2015-07-29 14:50:12</td>\n",
              "    </tr>\n",
              "    <tr>\n",
              "      <th>6318</th>\n",
              "      <td>BetterBanking on the go. Thumbs up! 👍</td>\n",
              "      <td>5</td>\n",
              "      <td>2015-07-29 15:53:33</td>\n",
              "    </tr>\n",
              "    <tr>\n",
              "      <th>6137</th>\n",
              "      <td>Yay for Android app!</td>\n",
              "      <td>5</td>\n",
              "      <td>2015-07-30 01:20:48</td>\n",
              "    </tr>\n",
              "    <tr>\n",
              "      <th>6256</th>\n",
              "      <td>Great how transferring funds to my other accou...</td>\n",
              "      <td>5</td>\n",
              "      <td>2015-07-30 01:35:29</td>\n",
              "    </tr>\n",
              "  </tbody>\n",
              "</table>\n",
              "</div>\n",
              "      <button class=\"colab-df-convert\" onclick=\"convertToInteractive('df-1fafcd4a-23c6-4ea3-bfbb-8effb07afcf4')\"\n",
              "              title=\"Convert this dataframe to an interactive table.\"\n",
              "              style=\"display:none;\">\n",
              "        \n",
              "  <svg xmlns=\"http://www.w3.org/2000/svg\" height=\"24px\"viewBox=\"0 0 24 24\"\n",
              "       width=\"24px\">\n",
              "    <path d=\"M0 0h24v24H0V0z\" fill=\"none\"/>\n",
              "    <path d=\"M18.56 5.44l.94 2.06.94-2.06 2.06-.94-2.06-.94-.94-2.06-.94 2.06-2.06.94zm-11 1L8.5 8.5l.94-2.06 2.06-.94-2.06-.94L8.5 2.5l-.94 2.06-2.06.94zm10 10l.94 2.06.94-2.06 2.06-.94-2.06-.94-.94-2.06-.94 2.06-2.06.94z\"/><path d=\"M17.41 7.96l-1.37-1.37c-.4-.4-.92-.59-1.43-.59-.52 0-1.04.2-1.43.59L10.3 9.45l-7.72 7.72c-.78.78-.78 2.05 0 2.83L4 21.41c.39.39.9.59 1.41.59.51 0 1.02-.2 1.41-.59l7.78-7.78 2.81-2.81c.8-.78.8-2.07 0-2.86zM5.41 20L4 18.59l7.72-7.72 1.47 1.35L5.41 20z\"/>\n",
              "  </svg>\n",
              "      </button>\n",
              "      \n",
              "  <style>\n",
              "    .colab-df-container {\n",
              "      display:flex;\n",
              "      flex-wrap:wrap;\n",
              "      gap: 12px;\n",
              "    }\n",
              "\n",
              "    .colab-df-convert {\n",
              "      background-color: #E8F0FE;\n",
              "      border: none;\n",
              "      border-radius: 50%;\n",
              "      cursor: pointer;\n",
              "      display: none;\n",
              "      fill: #1967D2;\n",
              "      height: 32px;\n",
              "      padding: 0 0 0 0;\n",
              "      width: 32px;\n",
              "    }\n",
              "\n",
              "    .colab-df-convert:hover {\n",
              "      background-color: #E2EBFA;\n",
              "      box-shadow: 0px 1px 2px rgba(60, 64, 67, 0.3), 0px 1px 3px 1px rgba(60, 64, 67, 0.15);\n",
              "      fill: #174EA6;\n",
              "    }\n",
              "\n",
              "    [theme=dark] .colab-df-convert {\n",
              "      background-color: #3B4455;\n",
              "      fill: #D2E3FC;\n",
              "    }\n",
              "\n",
              "    [theme=dark] .colab-df-convert:hover {\n",
              "      background-color: #434B5C;\n",
              "      box-shadow: 0px 1px 3px 1px rgba(0, 0, 0, 0.15);\n",
              "      filter: drop-shadow(0px 1px 2px rgba(0, 0, 0, 0.3));\n",
              "      fill: #FFFFFF;\n",
              "    }\n",
              "  </style>\n",
              "\n",
              "      <script>\n",
              "        const buttonEl =\n",
              "          document.querySelector('#df-1fafcd4a-23c6-4ea3-bfbb-8effb07afcf4 button.colab-df-convert');\n",
              "        buttonEl.style.display =\n",
              "          google.colab.kernel.accessAllowed ? 'block' : 'none';\n",
              "\n",
              "        async function convertToInteractive(key) {\n",
              "          const element = document.querySelector('#df-1fafcd4a-23c6-4ea3-bfbb-8effb07afcf4');\n",
              "          const dataTable =\n",
              "            await google.colab.kernel.invokeFunction('convertToInteractive',\n",
              "                                                     [key], {});\n",
              "          if (!dataTable) return;\n",
              "\n",
              "          const docLinkHtml = 'Like what you see? Visit the ' +\n",
              "            '<a target=\"_blank\" href=https://colab.research.google.com/notebooks/data_table.ipynb>data table notebook</a>'\n",
              "            + ' to learn more about interactive tables.';\n",
              "          element.innerHTML = '';\n",
              "          dataTable['output_type'] = 'display_data';\n",
              "          await google.colab.output.renderOutput(dataTable, element);\n",
              "          const docLink = document.createElement('div');\n",
              "          docLink.innerHTML = docLinkHtml;\n",
              "          element.appendChild(docLink);\n",
              "        }\n",
              "      </script>\n",
              "    </div>\n",
              "  </div>\n",
              "  "
            ]
          },
          "metadata": {},
          "execution_count": 51
        }
      ]
    },
    {
      "cell_type": "code",
      "source": [
        "df4.to_excel(\"securitybankscrapping.xlsx\", index=False) "
      ],
      "metadata": {
        "id": "mCz6Sly0ci1O"
      },
      "execution_count": null,
      "outputs": []
    }
  ]
}